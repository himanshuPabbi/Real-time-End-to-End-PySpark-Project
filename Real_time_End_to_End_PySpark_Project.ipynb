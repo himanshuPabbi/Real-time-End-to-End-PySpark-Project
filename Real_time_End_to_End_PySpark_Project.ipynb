{
  "nbformat": 4,
  "nbformat_minor": 0,
  "metadata": {
    "colab": {
      "provenance": []
    },
    "kernelspec": {
      "name": "python3",
      "display_name": "Python 3"
    },
    "language_info": {
      "name": "python"
    }
  },
  "cells": [
    {
      "cell_type": "code",
      "execution_count": 82,
      "metadata": {
        "colab": {
          "base_uri": "https://localhost:8080/"
        },
        "id": "Ggpi0CZMi0jo",
        "outputId": "89fe5791-6130-446f-8b86-78eaec424186"
      },
      "outputs": [
        {
          "output_type": "stream",
          "name": "stdout",
          "text": [
            "Requirement already satisfied: pyspark in /usr/local/lib/python3.10/dist-packages (3.5.1)\n",
            "Requirement already satisfied: py4j==0.10.9.7 in /usr/local/lib/python3.10/dist-packages (from pyspark) (0.10.9.7)\n"
          ]
        }
      ],
      "source": [
        "!pip install pyspark\n"
      ]
    },
    {
      "cell_type": "code",
      "source": [
        "from pyspark.sql.types import StructType,StructField,StringType,IntegerType"
      ],
      "metadata": {
        "id": "k_LGtoa2mAfE"
      },
      "execution_count": 83,
      "outputs": []
    },
    {
      "cell_type": "code",
      "source": [
        "from pyspark.sql.functions import *"
      ],
      "metadata": {
        "id": "XXJtlNc0mMQN"
      },
      "execution_count": 84,
      "outputs": []
    },
    {
      "cell_type": "code",
      "source": [
        "import pyspark as sp\n",
        "\n",
        "sc = sp.SparkContext.getOrCreate()\n",
        "print(sc)\n",
        "print(sc.version)"
      ],
      "metadata": {
        "colab": {
          "base_uri": "https://localhost:8080/"
        },
        "id": "B3XCZYJrnCwY",
        "outputId": "e24579d1-cfae-457e-c69d-736a326a6411"
      },
      "execution_count": 85,
      "outputs": [
        {
          "output_type": "stream",
          "name": "stdout",
          "text": [
            "<SparkContext master=local[*] appName=pyspark-shell>\n",
            "3.5.1\n"
          ]
        }
      ]
    },
    {
      "cell_type": "code",
      "source": [
        "#import SparkSeccion pyspark.sql\n",
        "from pyspark.sql import SparkSession\n",
        "\n",
        "#Create my_spark\n",
        "spark = SparkSession.builder.getOrCreate()\n",
        "\n",
        "#print my_spark\n",
        "print(spark)"
      ],
      "metadata": {
        "colab": {
          "base_uri": "https://localhost:8080/"
        },
        "id": "0T8fSCntnJv-",
        "outputId": "90c16304-a867-4bee-e81b-7e9183181fea"
      },
      "execution_count": 86,
      "outputs": [
        {
          "output_type": "stream",
          "name": "stdout",
          "text": [
            "<pyspark.sql.session.SparkSession object at 0x785673fea6e0>\n"
          ]
        }
      ]
    },
    {
      "cell_type": "markdown",
      "source": [
        "Create DataFrame"
      ],
      "metadata": {
        "id": "oz8-qAS1mrvm"
      }
    },
    {
      "cell_type": "code",
      "source": [
        "import pandas as pd\n",
        "import numpy as np\n",
        "\n",
        "file_path = '/content/googleplaystore.csv'\n",
        "\n",
        "#Read in the airports path\n",
        "df = spark.read.csv(file_path, header=True)\n",
        "\n",
        "df.show()"
      ],
      "metadata": {
        "colab": {
          "base_uri": "https://localhost:8080/"
        },
        "id": "qGgNlHt1mVvs",
        "outputId": "be0538ae-3bcc-4ddd-ab9f-4363619f3427"
      },
      "execution_count": 87,
      "outputs": [
        {
          "output_type": "stream",
          "name": "stdout",
          "text": [
            "+--------------------+--------------+------+-------+----+-----------+----+-----+--------------+--------------------+------------------+------------------+------------+\n",
            "|                 App|      Category|Rating|Reviews|Size|   Installs|Type|Price|Content Rating|              Genres|      Last Updated|       Current Ver| Android Ver|\n",
            "+--------------------+--------------+------+-------+----+-----------+----+-----+--------------+--------------------+------------------+------------------+------------+\n",
            "|Photo Editor & Ca...|ART_AND_DESIGN|   4.1|    159| 19M|    10,000+|Free|    0|      Everyone|        Art & Design|   January 7, 2018|             1.0.0|4.0.3 and up|\n",
            "| Coloring book moana|ART_AND_DESIGN|   3.9|    967| 14M|   500,000+|Free|    0|      Everyone|Art & Design;Pret...|  January 15, 2018|             2.0.0|4.0.3 and up|\n",
            "|U Launcher Lite –...|ART_AND_DESIGN|   4.7|  87510|8.7M| 5,000,000+|Free|    0|      Everyone|        Art & Design|    August 1, 2018|             1.2.4|4.0.3 and up|\n",
            "|Sketch - Draw & P...|ART_AND_DESIGN|   4.5| 215644| 25M|50,000,000+|Free|    0|          Teen|        Art & Design|      June 8, 2018|Varies with device|  4.2 and up|\n",
            "|Pixel Draw - Numb...|ART_AND_DESIGN|   4.3|    967|2.8M|   100,000+|Free|    0|      Everyone|Art & Design;Crea...|     June 20, 2018|               1.1|  4.4 and up|\n",
            "|Paper flowers ins...|ART_AND_DESIGN|   4.4|    167|5.6M|    50,000+|Free|    0|      Everyone|        Art & Design|    March 26, 2017|               1.0|  2.3 and up|\n",
            "|Smoke Effect Phot...|ART_AND_DESIGN|   3.8|    178| 19M|    50,000+|Free|    0|      Everyone|        Art & Design|    April 26, 2018|               1.1|4.0.3 and up|\n",
            "|    Infinite Painter|ART_AND_DESIGN|   4.1|  36815| 29M| 1,000,000+|Free|    0|      Everyone|        Art & Design|     June 14, 2018|          6.1.61.1|  4.2 and up|\n",
            "|Garden Coloring Book|ART_AND_DESIGN|   4.4|  13791| 33M| 1,000,000+|Free|    0|      Everyone|        Art & Design|September 20, 2017|             2.9.2|  3.0 and up|\n",
            "|Kids Paint Free -...|ART_AND_DESIGN|   4.7|    121|3.1M|    10,000+|Free|    0|      Everyone|Art & Design;Crea...|      July 3, 2018|               2.8|4.0.3 and up|\n",
            "|Text on Photo - F...|ART_AND_DESIGN|   4.4|  13880| 28M| 1,000,000+|Free|    0|      Everyone|        Art & Design|  October 27, 2017|             1.0.4|  4.1 and up|\n",
            "|Name Art Photo Ed...|ART_AND_DESIGN|   4.4|   8788| 12M| 1,000,000+|Free|    0|      Everyone|        Art & Design|     July 31, 2018|            1.0.15|  4.0 and up|\n",
            "|Tattoo Name On My...|ART_AND_DESIGN|   4.2|  44829| 20M|10,000,000+|Free|    0|          Teen|        Art & Design|     April 2, 2018|               3.8|  4.1 and up|\n",
            "|Mandala Coloring ...|ART_AND_DESIGN|   4.6|   4326| 21M|   100,000+|Free|    0|      Everyone|        Art & Design|     June 26, 2018|             1.0.4|  4.4 and up|\n",
            "|3D Color Pixel by...|ART_AND_DESIGN|   4.4|   1518| 37M|   100,000+|Free|    0|      Everyone|        Art & Design|    August 3, 2018|             1.2.3|  2.3 and up|\n",
            "|Learn To Draw Kaw...|ART_AND_DESIGN|   3.2|     55|2.7M|     5,000+|Free|    0|      Everyone|        Art & Design|      June 6, 2018|               NaN|  4.2 and up|\n",
            "|Photo Designer - ...|ART_AND_DESIGN|   4.7|   3632|5.5M|   500,000+|Free|    0|      Everyone|        Art & Design|     July 31, 2018|               3.1|  4.1 and up|\n",
            "|350 Diy Room Deco...|ART_AND_DESIGN|   4.5|     27| 17M|    10,000+|Free|    0|      Everyone|        Art & Design|  November 7, 2017|               1.0|  2.3 and up|\n",
            "|FlipaClip - Carto...|ART_AND_DESIGN|   4.3| 194216| 39M| 5,000,000+|Free|    0|      Everyone|        Art & Design|    August 3, 2018|             2.2.5|4.0.3 and up|\n",
            "|        ibis Paint X|ART_AND_DESIGN|   4.6| 224399| 31M|10,000,000+|Free|    0|      Everyone|        Art & Design|     July 30, 2018|             5.5.4|  4.1 and up|\n",
            "+--------------------+--------------+------+-------+----+-----------+----+-----+--------------+--------------------+------------------+------------------+------------+\n",
            "only showing top 20 rows\n",
            "\n"
          ]
        }
      ]
    },
    {
      "cell_type": "code",
      "source": [
        "df.count()"
      ],
      "metadata": {
        "colab": {
          "base_uri": "https://localhost:8080/"
        },
        "id": "c-_0h1CKnSyZ",
        "outputId": "b2528217-00d3-4b08-d1b7-345c67f201a2"
      },
      "execution_count": 88,
      "outputs": [
        {
          "output_type": "execute_result",
          "data": {
            "text/plain": [
              "10841"
            ]
          },
          "metadata": {},
          "execution_count": 88
        }
      ]
    },
    {
      "cell_type": "code",
      "source": [
        "df.printSchema()"
      ],
      "metadata": {
        "colab": {
          "base_uri": "https://localhost:8080/"
        },
        "id": "RkIwwHnwn1SD",
        "outputId": "8df9f8ac-3887-4a35-da4a-42e2d2c93ff3"
      },
      "execution_count": 89,
      "outputs": [
        {
          "output_type": "stream",
          "name": "stdout",
          "text": [
            "root\n",
            " |-- App: string (nullable = true)\n",
            " |-- Category: string (nullable = true)\n",
            " |-- Rating: string (nullable = true)\n",
            " |-- Reviews: string (nullable = true)\n",
            " |-- Size: string (nullable = true)\n",
            " |-- Installs: string (nullable = true)\n",
            " |-- Type: string (nullable = true)\n",
            " |-- Price: string (nullable = true)\n",
            " |-- Content Rating: string (nullable = true)\n",
            " |-- Genres: string (nullable = true)\n",
            " |-- Last Updated: string (nullable = true)\n",
            " |-- Current Ver: string (nullable = true)\n",
            " |-- Android Ver: string (nullable = true)\n",
            "\n"
          ]
        }
      ]
    },
    {
      "cell_type": "markdown",
      "source": [
        "Data Cleaning"
      ],
      "metadata": {
        "id": "7i8mwcJ3oXE9"
      }
    },
    {
      "cell_type": "code",
      "source": [
        "df=df.drop(\"Size\",\"Content Rating\",\"Last Updated\",\"Android Ver\",\"Current Ver\")"
      ],
      "metadata": {
        "id": "5DOOnY5soCgF"
      },
      "execution_count": 90,
      "outputs": []
    },
    {
      "cell_type": "code",
      "source": [
        "df.show()"
      ],
      "metadata": {
        "colab": {
          "base_uri": "https://localhost:8080/"
        },
        "id": "ZQPqWEJto-7c",
        "outputId": "9c39b505-c6eb-4ce6-ddbe-97819b2c5aca"
      },
      "execution_count": 91,
      "outputs": [
        {
          "output_type": "stream",
          "name": "stdout",
          "text": [
            "+--------------------+--------------+------+-------+-----------+----+-----+--------------------+\n",
            "|                 App|      Category|Rating|Reviews|   Installs|Type|Price|              Genres|\n",
            "+--------------------+--------------+------+-------+-----------+----+-----+--------------------+\n",
            "|Photo Editor & Ca...|ART_AND_DESIGN|   4.1|    159|    10,000+|Free|    0|        Art & Design|\n",
            "| Coloring book moana|ART_AND_DESIGN|   3.9|    967|   500,000+|Free|    0|Art & Design;Pret...|\n",
            "|U Launcher Lite –...|ART_AND_DESIGN|   4.7|  87510| 5,000,000+|Free|    0|        Art & Design|\n",
            "|Sketch - Draw & P...|ART_AND_DESIGN|   4.5| 215644|50,000,000+|Free|    0|        Art & Design|\n",
            "|Pixel Draw - Numb...|ART_AND_DESIGN|   4.3|    967|   100,000+|Free|    0|Art & Design;Crea...|\n",
            "|Paper flowers ins...|ART_AND_DESIGN|   4.4|    167|    50,000+|Free|    0|        Art & Design|\n",
            "|Smoke Effect Phot...|ART_AND_DESIGN|   3.8|    178|    50,000+|Free|    0|        Art & Design|\n",
            "|    Infinite Painter|ART_AND_DESIGN|   4.1|  36815| 1,000,000+|Free|    0|        Art & Design|\n",
            "|Garden Coloring Book|ART_AND_DESIGN|   4.4|  13791| 1,000,000+|Free|    0|        Art & Design|\n",
            "|Kids Paint Free -...|ART_AND_DESIGN|   4.7|    121|    10,000+|Free|    0|Art & Design;Crea...|\n",
            "|Text on Photo - F...|ART_AND_DESIGN|   4.4|  13880| 1,000,000+|Free|    0|        Art & Design|\n",
            "|Name Art Photo Ed...|ART_AND_DESIGN|   4.4|   8788| 1,000,000+|Free|    0|        Art & Design|\n",
            "|Tattoo Name On My...|ART_AND_DESIGN|   4.2|  44829|10,000,000+|Free|    0|        Art & Design|\n",
            "|Mandala Coloring ...|ART_AND_DESIGN|   4.6|   4326|   100,000+|Free|    0|        Art & Design|\n",
            "|3D Color Pixel by...|ART_AND_DESIGN|   4.4|   1518|   100,000+|Free|    0|        Art & Design|\n",
            "|Learn To Draw Kaw...|ART_AND_DESIGN|   3.2|     55|     5,000+|Free|    0|        Art & Design|\n",
            "|Photo Designer - ...|ART_AND_DESIGN|   4.7|   3632|   500,000+|Free|    0|        Art & Design|\n",
            "|350 Diy Room Deco...|ART_AND_DESIGN|   4.5|     27|    10,000+|Free|    0|        Art & Design|\n",
            "|FlipaClip - Carto...|ART_AND_DESIGN|   4.3| 194216| 5,000,000+|Free|    0|        Art & Design|\n",
            "|        ibis Paint X|ART_AND_DESIGN|   4.6| 224399|10,000,000+|Free|    0|        Art & Design|\n",
            "+--------------------+--------------+------+-------+-----------+----+-----+--------------------+\n",
            "only showing top 20 rows\n",
            "\n"
          ]
        }
      ]
    },
    {
      "cell_type": "code",
      "source": [
        "df.printSchema()"
      ],
      "metadata": {
        "colab": {
          "base_uri": "https://localhost:8080/"
        },
        "id": "kpQ8aR-qpB6x",
        "outputId": "ebacd4d3-d0bb-4f6d-c1b4-2a4622cc4d07"
      },
      "execution_count": 92,
      "outputs": [
        {
          "output_type": "stream",
          "name": "stdout",
          "text": [
            "root\n",
            " |-- App: string (nullable = true)\n",
            " |-- Category: string (nullable = true)\n",
            " |-- Rating: string (nullable = true)\n",
            " |-- Reviews: string (nullable = true)\n",
            " |-- Installs: string (nullable = true)\n",
            " |-- Type: string (nullable = true)\n",
            " |-- Price: string (nullable = true)\n",
            " |-- Genres: string (nullable = true)\n",
            "\n"
          ]
        }
      ]
    },
    {
      "cell_type": "code",
      "source": [
        "from pyspark.sql.functions import regexp_replace,col"
      ],
      "metadata": {
        "id": "t8BvHagnpU1G"
      },
      "execution_count": 93,
      "outputs": []
    },
    {
      "cell_type": "code",
      "source": [
        "df=df.withColumn(\"Reviews\",col(\"Reviews\").cast(IntegerType()))"
      ],
      "metadata": {
        "id": "KPj9DaPVqlFf"
      },
      "execution_count": 94,
      "outputs": []
    },
    {
      "cell_type": "code",
      "source": [
        "df.printSchema()"
      ],
      "metadata": {
        "colab": {
          "base_uri": "https://localhost:8080/"
        },
        "id": "8wJ-fW84q1xl",
        "outputId": "e4fe2e7e-d682-4b7f-f159-3581f3f4a358"
      },
      "execution_count": 95,
      "outputs": [
        {
          "output_type": "stream",
          "name": "stdout",
          "text": [
            "root\n",
            " |-- App: string (nullable = true)\n",
            " |-- Category: string (nullable = true)\n",
            " |-- Rating: string (nullable = true)\n",
            " |-- Reviews: integer (nullable = true)\n",
            " |-- Installs: string (nullable = true)\n",
            " |-- Type: string (nullable = true)\n",
            " |-- Price: string (nullable = true)\n",
            " |-- Genres: string (nullable = true)\n",
            "\n"
          ]
        }
      ]
    },
    {
      "cell_type": "code",
      "source": [
        "df=df.withColumn(\"Installs\",regexp_replace(col(\"Installs\"),\"[^0-9]\",\"\"))"
      ],
      "metadata": {
        "id": "xARZEVnoq3tY"
      },
      "execution_count": 96,
      "outputs": []
    },
    {
      "cell_type": "code",
      "source": [
        "df.show()"
      ],
      "metadata": {
        "colab": {
          "base_uri": "https://localhost:8080/"
        },
        "id": "gK7JCdr1rQqG",
        "outputId": "20d50458-84a7-46dd-f7ba-9154e32c3d80"
      },
      "execution_count": 97,
      "outputs": [
        {
          "output_type": "stream",
          "name": "stdout",
          "text": [
            "+--------------------+--------------+------+-------+--------+----+-----+--------------------+\n",
            "|                 App|      Category|Rating|Reviews|Installs|Type|Price|              Genres|\n",
            "+--------------------+--------------+------+-------+--------+----+-----+--------------------+\n",
            "|Photo Editor & Ca...|ART_AND_DESIGN|   4.1|    159|   10000|Free|    0|        Art & Design|\n",
            "| Coloring book moana|ART_AND_DESIGN|   3.9|    967|  500000|Free|    0|Art & Design;Pret...|\n",
            "|U Launcher Lite –...|ART_AND_DESIGN|   4.7|  87510| 5000000|Free|    0|        Art & Design|\n",
            "|Sketch - Draw & P...|ART_AND_DESIGN|   4.5| 215644|50000000|Free|    0|        Art & Design|\n",
            "|Pixel Draw - Numb...|ART_AND_DESIGN|   4.3|    967|  100000|Free|    0|Art & Design;Crea...|\n",
            "|Paper flowers ins...|ART_AND_DESIGN|   4.4|    167|   50000|Free|    0|        Art & Design|\n",
            "|Smoke Effect Phot...|ART_AND_DESIGN|   3.8|    178|   50000|Free|    0|        Art & Design|\n",
            "|    Infinite Painter|ART_AND_DESIGN|   4.1|  36815| 1000000|Free|    0|        Art & Design|\n",
            "|Garden Coloring Book|ART_AND_DESIGN|   4.4|  13791| 1000000|Free|    0|        Art & Design|\n",
            "|Kids Paint Free -...|ART_AND_DESIGN|   4.7|    121|   10000|Free|    0|Art & Design;Crea...|\n",
            "|Text on Photo - F...|ART_AND_DESIGN|   4.4|  13880| 1000000|Free|    0|        Art & Design|\n",
            "|Name Art Photo Ed...|ART_AND_DESIGN|   4.4|   8788| 1000000|Free|    0|        Art & Design|\n",
            "|Tattoo Name On My...|ART_AND_DESIGN|   4.2|  44829|10000000|Free|    0|        Art & Design|\n",
            "|Mandala Coloring ...|ART_AND_DESIGN|   4.6|   4326|  100000|Free|    0|        Art & Design|\n",
            "|3D Color Pixel by...|ART_AND_DESIGN|   4.4|   1518|  100000|Free|    0|        Art & Design|\n",
            "|Learn To Draw Kaw...|ART_AND_DESIGN|   3.2|     55|    5000|Free|    0|        Art & Design|\n",
            "|Photo Designer - ...|ART_AND_DESIGN|   4.7|   3632|  500000|Free|    0|        Art & Design|\n",
            "|350 Diy Room Deco...|ART_AND_DESIGN|   4.5|     27|   10000|Free|    0|        Art & Design|\n",
            "|FlipaClip - Carto...|ART_AND_DESIGN|   4.3| 194216| 5000000|Free|    0|        Art & Design|\n",
            "|        ibis Paint X|ART_AND_DESIGN|   4.6| 224399|10000000|Free|    0|        Art & Design|\n",
            "+--------------------+--------------+------+-------+--------+----+-----+--------------------+\n",
            "only showing top 20 rows\n",
            "\n"
          ]
        }
      ]
    },
    {
      "cell_type": "code",
      "source": [
        "df=df.withColumn(\"Installs\",col(\"Installs\").cast(IntegerType()))"
      ],
      "metadata": {
        "id": "2ZxOJuhPrRZ7"
      },
      "execution_count": 98,
      "outputs": []
    },
    {
      "cell_type": "code",
      "source": [
        "df=df.withColumn(\"Price\",regexp_replace(col(\"Price\"),\"[$]\",\"\"))"
      ],
      "metadata": {
        "id": "oj6_wd_3rZ1k"
      },
      "execution_count": 99,
      "outputs": []
    },
    {
      "cell_type": "code",
      "source": [
        "df.show(5)"
      ],
      "metadata": {
        "colab": {
          "base_uri": "https://localhost:8080/"
        },
        "id": "kbvOkvI5rlWM",
        "outputId": "4fc02161-c93a-4578-bcac-45963bec297a"
      },
      "execution_count": 100,
      "outputs": [
        {
          "output_type": "stream",
          "name": "stdout",
          "text": [
            "+--------------------+--------------+------+-------+--------+----+-----+--------------------+\n",
            "|                 App|      Category|Rating|Reviews|Installs|Type|Price|              Genres|\n",
            "+--------------------+--------------+------+-------+--------+----+-----+--------------------+\n",
            "|Photo Editor & Ca...|ART_AND_DESIGN|   4.1|    159|   10000|Free|    0|        Art & Design|\n",
            "| Coloring book moana|ART_AND_DESIGN|   3.9|    967|  500000|Free|    0|Art & Design;Pret...|\n",
            "|U Launcher Lite –...|ART_AND_DESIGN|   4.7|  87510| 5000000|Free|    0|        Art & Design|\n",
            "|Sketch - Draw & P...|ART_AND_DESIGN|   4.5| 215644|50000000|Free|    0|        Art & Design|\n",
            "|Pixel Draw - Numb...|ART_AND_DESIGN|   4.3|    967|  100000|Free|    0|Art & Design;Crea...|\n",
            "+--------------------+--------------+------+-------+--------+----+-----+--------------------+\n",
            "only showing top 5 rows\n",
            "\n"
          ]
        }
      ]
    },
    {
      "cell_type": "code",
      "source": [
        "df.createOrReplaceTempView(\"apps\")"
      ],
      "metadata": {
        "id": "Rna7HkZIrl5N"
      },
      "execution_count": 101,
      "outputs": []
    },
    {
      "cell_type": "code",
      "source": [
        "result = spark.sql(\"SELECT * FROM apps\")\n",
        "result.show()"
      ],
      "metadata": {
        "colab": {
          "base_uri": "https://localhost:8080/"
        },
        "id": "Yx6w9H7isAwd",
        "outputId": "988bf9e1-27b6-442e-9cd2-6abc54e4f16f"
      },
      "execution_count": 102,
      "outputs": [
        {
          "output_type": "stream",
          "name": "stdout",
          "text": [
            "+--------------------+--------------+------+-------+--------+----+-----+--------------------+\n",
            "|                 App|      Category|Rating|Reviews|Installs|Type|Price|              Genres|\n",
            "+--------------------+--------------+------+-------+--------+----+-----+--------------------+\n",
            "|Photo Editor & Ca...|ART_AND_DESIGN|   4.1|    159|   10000|Free|    0|        Art & Design|\n",
            "| Coloring book moana|ART_AND_DESIGN|   3.9|    967|  500000|Free|    0|Art & Design;Pret...|\n",
            "|U Launcher Lite –...|ART_AND_DESIGN|   4.7|  87510| 5000000|Free|    0|        Art & Design|\n",
            "|Sketch - Draw & P...|ART_AND_DESIGN|   4.5| 215644|50000000|Free|    0|        Art & Design|\n",
            "|Pixel Draw - Numb...|ART_AND_DESIGN|   4.3|    967|  100000|Free|    0|Art & Design;Crea...|\n",
            "|Paper flowers ins...|ART_AND_DESIGN|   4.4|    167|   50000|Free|    0|        Art & Design|\n",
            "|Smoke Effect Phot...|ART_AND_DESIGN|   3.8|    178|   50000|Free|    0|        Art & Design|\n",
            "|    Infinite Painter|ART_AND_DESIGN|   4.1|  36815| 1000000|Free|    0|        Art & Design|\n",
            "|Garden Coloring Book|ART_AND_DESIGN|   4.4|  13791| 1000000|Free|    0|        Art & Design|\n",
            "|Kids Paint Free -...|ART_AND_DESIGN|   4.7|    121|   10000|Free|    0|Art & Design;Crea...|\n",
            "|Text on Photo - F...|ART_AND_DESIGN|   4.4|  13880| 1000000|Free|    0|        Art & Design|\n",
            "|Name Art Photo Ed...|ART_AND_DESIGN|   4.4|   8788| 1000000|Free|    0|        Art & Design|\n",
            "|Tattoo Name On My...|ART_AND_DESIGN|   4.2|  44829|10000000|Free|    0|        Art & Design|\n",
            "|Mandala Coloring ...|ART_AND_DESIGN|   4.6|   4326|  100000|Free|    0|        Art & Design|\n",
            "|3D Color Pixel by...|ART_AND_DESIGN|   4.4|   1518|  100000|Free|    0|        Art & Design|\n",
            "|Learn To Draw Kaw...|ART_AND_DESIGN|   3.2|     55|    5000|Free|    0|        Art & Design|\n",
            "|Photo Designer - ...|ART_AND_DESIGN|   4.7|   3632|  500000|Free|    0|        Art & Design|\n",
            "|350 Diy Room Deco...|ART_AND_DESIGN|   4.5|     27|   10000|Free|    0|        Art & Design|\n",
            "|FlipaClip - Carto...|ART_AND_DESIGN|   4.3| 194216| 5000000|Free|    0|        Art & Design|\n",
            "|        ibis Paint X|ART_AND_DESIGN|   4.6| 224399|10000000|Free|    0|        Art & Design|\n",
            "+--------------------+--------------+------+-------+--------+----+-----+--------------------+\n",
            "only showing top 20 rows\n",
            "\n"
          ]
        }
      ]
    },
    {
      "cell_type": "markdown",
      "source": [
        "Top Review given to App"
      ],
      "metadata": {
        "id": "kEQs966xtZLF"
      }
    },
    {
      "cell_type": "code",
      "source": [
        "results=spark.sql(\"select App,sum(Reviews) from apps group by App order by sum(Reviews) desc\")"
      ],
      "metadata": {
        "id": "hr-JhjcrsBZ-"
      },
      "execution_count": 103,
      "outputs": []
    },
    {
      "cell_type": "code",
      "source": [
        "results.show(10)"
      ],
      "metadata": {
        "colab": {
          "base_uri": "https://localhost:8080/"
        },
        "id": "Jgjyz7_Xtm10",
        "outputId": "3f6ff861-3ea1-4a18-a5f8-0a766ffad578"
      },
      "execution_count": 104,
      "outputs": [
        {
          "output_type": "stream",
          "name": "stdout",
          "text": [
            "+--------------------+------------+\n",
            "|                 App|sum(Reviews)|\n",
            "+--------------------+------------+\n",
            "|           Instagram|   266241989|\n",
            "|  WhatsApp Messenger|   207348304|\n",
            "|      Clash of Clans|   179558781|\n",
            "|Messenger – Text ...|   169932272|\n",
            "|      Subway Surfers|   166331958|\n",
            "|    Candy Crush Saga|   156993136|\n",
            "|            Facebook|   156286514|\n",
            "|         8 Ball Pool|    99386198|\n",
            "|        Clash Royale|    92530298|\n",
            "|            Snapchat|    68045010|\n",
            "+--------------------+------------+\n",
            "only showing top 10 rows\n",
            "\n"
          ]
        }
      ]
    },
    {
      "cell_type": "markdown",
      "source": [
        "Top 10 installs App"
      ],
      "metadata": {
        "id": "qDKB_c7eud46"
      }
    },
    {
      "cell_type": "code",
      "source": [
        "result = spark.sql(\"SELECT * FROM apps\")\n",
        "result.show()"
      ],
      "metadata": {
        "colab": {
          "base_uri": "https://localhost:8080/"
        },
        "id": "lxgGUZCxtqgO",
        "outputId": "fba6184c-1a11-4d37-a47c-f4fb40e0086d"
      },
      "execution_count": 105,
      "outputs": [
        {
          "output_type": "stream",
          "name": "stdout",
          "text": [
            "+--------------------+--------------+------+-------+--------+----+-----+--------------------+\n",
            "|                 App|      Category|Rating|Reviews|Installs|Type|Price|              Genres|\n",
            "+--------------------+--------------+------+-------+--------+----+-----+--------------------+\n",
            "|Photo Editor & Ca...|ART_AND_DESIGN|   4.1|    159|   10000|Free|    0|        Art & Design|\n",
            "| Coloring book moana|ART_AND_DESIGN|   3.9|    967|  500000|Free|    0|Art & Design;Pret...|\n",
            "|U Launcher Lite –...|ART_AND_DESIGN|   4.7|  87510| 5000000|Free|    0|        Art & Design|\n",
            "|Sketch - Draw & P...|ART_AND_DESIGN|   4.5| 215644|50000000|Free|    0|        Art & Design|\n",
            "|Pixel Draw - Numb...|ART_AND_DESIGN|   4.3|    967|  100000|Free|    0|Art & Design;Crea...|\n",
            "|Paper flowers ins...|ART_AND_DESIGN|   4.4|    167|   50000|Free|    0|        Art & Design|\n",
            "|Smoke Effect Phot...|ART_AND_DESIGN|   3.8|    178|   50000|Free|    0|        Art & Design|\n",
            "|    Infinite Painter|ART_AND_DESIGN|   4.1|  36815| 1000000|Free|    0|        Art & Design|\n",
            "|Garden Coloring Book|ART_AND_DESIGN|   4.4|  13791| 1000000|Free|    0|        Art & Design|\n",
            "|Kids Paint Free -...|ART_AND_DESIGN|   4.7|    121|   10000|Free|    0|Art & Design;Crea...|\n",
            "|Text on Photo - F...|ART_AND_DESIGN|   4.4|  13880| 1000000|Free|    0|        Art & Design|\n",
            "|Name Art Photo Ed...|ART_AND_DESIGN|   4.4|   8788| 1000000|Free|    0|        Art & Design|\n",
            "|Tattoo Name On My...|ART_AND_DESIGN|   4.2|  44829|10000000|Free|    0|        Art & Design|\n",
            "|Mandala Coloring ...|ART_AND_DESIGN|   4.6|   4326|  100000|Free|    0|        Art & Design|\n",
            "|3D Color Pixel by...|ART_AND_DESIGN|   4.4|   1518|  100000|Free|    0|        Art & Design|\n",
            "|Learn To Draw Kaw...|ART_AND_DESIGN|   3.2|     55|    5000|Free|    0|        Art & Design|\n",
            "|Photo Designer - ...|ART_AND_DESIGN|   4.7|   3632|  500000|Free|    0|        Art & Design|\n",
            "|350 Diy Room Deco...|ART_AND_DESIGN|   4.5|     27|   10000|Free|    0|        Art & Design|\n",
            "|FlipaClip - Carto...|ART_AND_DESIGN|   4.3| 194216| 5000000|Free|    0|        Art & Design|\n",
            "|        ibis Paint X|ART_AND_DESIGN|   4.6| 224399|10000000|Free|    0|        Art & Design|\n",
            "+--------------------+--------------+------+-------+--------+----+-----+--------------------+\n",
            "only showing top 20 rows\n",
            "\n"
          ]
        }
      ]
    },
    {
      "cell_type": "code",
      "source": [
        "results=spark.sql(\"select App,sum(Installs) from apps group by App order by sum(Installs) desc \")"
      ],
      "metadata": {
        "id": "oRQnkVp2ujmP"
      },
      "execution_count": 106,
      "outputs": []
    },
    {
      "cell_type": "code",
      "source": [
        "results.show(10)"
      ],
      "metadata": {
        "colab": {
          "base_uri": "https://localhost:8080/"
        },
        "id": "-WUXbiQ5uymT",
        "outputId": "829dfc90-bf7b-4f59-b302-474adaa94723"
      },
      "execution_count": 107,
      "outputs": [
        {
          "output_type": "stream",
          "name": "stdout",
          "text": [
            "+--------------------+-------------+\n",
            "|                 App|sum(Installs)|\n",
            "+--------------------+-------------+\n",
            "|      Subway Surfers|   6000000000|\n",
            "|           Instagram|   4000000000|\n",
            "|        Google Drive|   4000000000|\n",
            "|            Hangouts|   4000000000|\n",
            "|         Google News|   4000000000|\n",
            "|       Google Photos|   4000000000|\n",
            "|    Candy Crush Saga|   3500000000|\n",
            "|Messenger – Text ...|   3000000000|\n",
            "|Google Chrome: Fa...|   3000000000|\n",
            "|Maps - Navigate &...|   3000000000|\n",
            "+--------------------+-------------+\n",
            "only showing top 10 rows\n",
            "\n"
          ]
        }
      ]
    },
    {
      "cell_type": "markdown",
      "source": [
        "Category wise distribution of App"
      ],
      "metadata": {
        "id": "ksspz3WfvJZq"
      }
    },
    {
      "cell_type": "code",
      "source": [
        "results=spark.sql(\"select * from Apps\")\n"
      ],
      "metadata": {
        "id": "XJVhse0Tu270"
      },
      "execution_count": 108,
      "outputs": []
    },
    {
      "cell_type": "code",
      "source": [
        "results.show()"
      ],
      "metadata": {
        "colab": {
          "base_uri": "https://localhost:8080/"
        },
        "id": "Fmn17Ik5vRbm",
        "outputId": "53db4cdd-40e4-46e3-86d5-032d59fecd71"
      },
      "execution_count": 109,
      "outputs": [
        {
          "output_type": "stream",
          "name": "stdout",
          "text": [
            "+--------------------+--------------+------+-------+--------+----+-----+--------------------+\n",
            "|                 App|      Category|Rating|Reviews|Installs|Type|Price|              Genres|\n",
            "+--------------------+--------------+------+-------+--------+----+-----+--------------------+\n",
            "|Photo Editor & Ca...|ART_AND_DESIGN|   4.1|    159|   10000|Free|    0|        Art & Design|\n",
            "| Coloring book moana|ART_AND_DESIGN|   3.9|    967|  500000|Free|    0|Art & Design;Pret...|\n",
            "|U Launcher Lite –...|ART_AND_DESIGN|   4.7|  87510| 5000000|Free|    0|        Art & Design|\n",
            "|Sketch - Draw & P...|ART_AND_DESIGN|   4.5| 215644|50000000|Free|    0|        Art & Design|\n",
            "|Pixel Draw - Numb...|ART_AND_DESIGN|   4.3|    967|  100000|Free|    0|Art & Design;Crea...|\n",
            "|Paper flowers ins...|ART_AND_DESIGN|   4.4|    167|   50000|Free|    0|        Art & Design|\n",
            "|Smoke Effect Phot...|ART_AND_DESIGN|   3.8|    178|   50000|Free|    0|        Art & Design|\n",
            "|    Infinite Painter|ART_AND_DESIGN|   4.1|  36815| 1000000|Free|    0|        Art & Design|\n",
            "|Garden Coloring Book|ART_AND_DESIGN|   4.4|  13791| 1000000|Free|    0|        Art & Design|\n",
            "|Kids Paint Free -...|ART_AND_DESIGN|   4.7|    121|   10000|Free|    0|Art & Design;Crea...|\n",
            "|Text on Photo - F...|ART_AND_DESIGN|   4.4|  13880| 1000000|Free|    0|        Art & Design|\n",
            "|Name Art Photo Ed...|ART_AND_DESIGN|   4.4|   8788| 1000000|Free|    0|        Art & Design|\n",
            "|Tattoo Name On My...|ART_AND_DESIGN|   4.2|  44829|10000000|Free|    0|        Art & Design|\n",
            "|Mandala Coloring ...|ART_AND_DESIGN|   4.6|   4326|  100000|Free|    0|        Art & Design|\n",
            "|3D Color Pixel by...|ART_AND_DESIGN|   4.4|   1518|  100000|Free|    0|        Art & Design|\n",
            "|Learn To Draw Kaw...|ART_AND_DESIGN|   3.2|     55|    5000|Free|    0|        Art & Design|\n",
            "|Photo Designer - ...|ART_AND_DESIGN|   4.7|   3632|  500000|Free|    0|        Art & Design|\n",
            "|350 Diy Room Deco...|ART_AND_DESIGN|   4.5|     27|   10000|Free|    0|        Art & Design|\n",
            "|FlipaClip - Carto...|ART_AND_DESIGN|   4.3| 194216| 5000000|Free|    0|        Art & Design|\n",
            "|        ibis Paint X|ART_AND_DESIGN|   4.6| 224399|10000000|Free|    0|        Art & Design|\n",
            "+--------------------+--------------+------+-------+--------+----+-----+--------------------+\n",
            "only showing top 20 rows\n",
            "\n"
          ]
        }
      ]
    },
    {
      "cell_type": "code",
      "source": [
        "results=spark.sql(\"select Category,sum(Installs) from apps group by Category order by sum(Installs) desc\")\n"
      ],
      "metadata": {
        "id": "IzuB_oiovSY1"
      },
      "execution_count": 110,
      "outputs": []
    },
    {
      "cell_type": "code",
      "source": [
        "results.show()"
      ],
      "metadata": {
        "colab": {
          "base_uri": "https://localhost:8080/"
        },
        "id": "g-ChLhcWvlXp",
        "outputId": "71aee31f-eead-47fe-d994-899acc0327a8"
      },
      "execution_count": 111,
      "outputs": [
        {
          "output_type": "stream",
          "name": "stdout",
          "text": [
            "+-------------------+-------------+\n",
            "|           Category|sum(Installs)|\n",
            "+-------------------+-------------+\n",
            "|               GAME|  35086024415|\n",
            "|      COMMUNICATION|  32647276251|\n",
            "|       PRODUCTIVITY|  14176091369|\n",
            "|             SOCIAL|  14069867902|\n",
            "|              TOOLS|  11452771915|\n",
            "|             FAMILY|  10258263505|\n",
            "|        PHOTOGRAPHY|  10088247655|\n",
            "| NEWS_AND_MAGAZINES|   7496317760|\n",
            "|   TRAVEL_AND_LOCAL|   6868887146|\n",
            "|      VIDEO_PLAYERS|   6222002720|\n",
            "|           SHOPPING|   3247848785|\n",
            "|      ENTERTAINMENT|   2869160000|\n",
            "|    PERSONALIZATION|   2325494782|\n",
            "|BOOKS_AND_REFERENCE|   1921469576|\n",
            "|             SPORTS|   1751174498|\n",
            "| HEALTH_AND_FITNESS|   1582072512|\n",
            "|           BUSINESS|   1001914865|\n",
            "|            FINANCE|    876648734|\n",
            "|          EDUCATION|    871452000|\n",
            "|MAPS_AND_NAVIGATION|    719281890|\n",
            "+-------------------+-------------+\n",
            "only showing top 20 rows\n",
            "\n"
          ]
        }
      ]
    },
    {
      "cell_type": "markdown",
      "source": [
        "Top Paid Apps"
      ],
      "metadata": {
        "id": "fxoQBVGeweQj"
      }
    },
    {
      "cell_type": "code",
      "source": [
        "results=spark.sql(\"select * from Apps\")\n"
      ],
      "metadata": {
        "id": "8jIigf3zwVRm"
      },
      "execution_count": 112,
      "outputs": []
    },
    {
      "cell_type": "code",
      "source": [
        "results.show()"
      ],
      "metadata": {
        "colab": {
          "base_uri": "https://localhost:8080/"
        },
        "id": "tRK-frMHwq9C",
        "outputId": "6283592e-75ef-42c0-8826-7deb7ae72a52"
      },
      "execution_count": 113,
      "outputs": [
        {
          "output_type": "stream",
          "name": "stdout",
          "text": [
            "+--------------------+--------------+------+-------+--------+----+-----+--------------------+\n",
            "|                 App|      Category|Rating|Reviews|Installs|Type|Price|              Genres|\n",
            "+--------------------+--------------+------+-------+--------+----+-----+--------------------+\n",
            "|Photo Editor & Ca...|ART_AND_DESIGN|   4.1|    159|   10000|Free|    0|        Art & Design|\n",
            "| Coloring book moana|ART_AND_DESIGN|   3.9|    967|  500000|Free|    0|Art & Design;Pret...|\n",
            "|U Launcher Lite –...|ART_AND_DESIGN|   4.7|  87510| 5000000|Free|    0|        Art & Design|\n",
            "|Sketch - Draw & P...|ART_AND_DESIGN|   4.5| 215644|50000000|Free|    0|        Art & Design|\n",
            "|Pixel Draw - Numb...|ART_AND_DESIGN|   4.3|    967|  100000|Free|    0|Art & Design;Crea...|\n",
            "|Paper flowers ins...|ART_AND_DESIGN|   4.4|    167|   50000|Free|    0|        Art & Design|\n",
            "|Smoke Effect Phot...|ART_AND_DESIGN|   3.8|    178|   50000|Free|    0|        Art & Design|\n",
            "|    Infinite Painter|ART_AND_DESIGN|   4.1|  36815| 1000000|Free|    0|        Art & Design|\n",
            "|Garden Coloring Book|ART_AND_DESIGN|   4.4|  13791| 1000000|Free|    0|        Art & Design|\n",
            "|Kids Paint Free -...|ART_AND_DESIGN|   4.7|    121|   10000|Free|    0|Art & Design;Crea...|\n",
            "|Text on Photo - F...|ART_AND_DESIGN|   4.4|  13880| 1000000|Free|    0|        Art & Design|\n",
            "|Name Art Photo Ed...|ART_AND_DESIGN|   4.4|   8788| 1000000|Free|    0|        Art & Design|\n",
            "|Tattoo Name On My...|ART_AND_DESIGN|   4.2|  44829|10000000|Free|    0|        Art & Design|\n",
            "|Mandala Coloring ...|ART_AND_DESIGN|   4.6|   4326|  100000|Free|    0|        Art & Design|\n",
            "|3D Color Pixel by...|ART_AND_DESIGN|   4.4|   1518|  100000|Free|    0|        Art & Design|\n",
            "|Learn To Draw Kaw...|ART_AND_DESIGN|   3.2|     55|    5000|Free|    0|        Art & Design|\n",
            "|Photo Designer - ...|ART_AND_DESIGN|   4.7|   3632|  500000|Free|    0|        Art & Design|\n",
            "|350 Diy Room Deco...|ART_AND_DESIGN|   4.5|     27|   10000|Free|    0|        Art & Design|\n",
            "|FlipaClip - Carto...|ART_AND_DESIGN|   4.3| 194216| 5000000|Free|    0|        Art & Design|\n",
            "|        ibis Paint X|ART_AND_DESIGN|   4.6| 224399|10000000|Free|    0|        Art & Design|\n",
            "+--------------------+--------------+------+-------+--------+----+-----+--------------------+\n",
            "only showing top 20 rows\n",
            "\n"
          ]
        }
      ]
    },
    {
      "cell_type": "code",
      "source": [
        "results=spark.sql(\"select App,sum(Price) from Apps where Type='Paid' group by App order by sum(Price) desc\")"
      ],
      "metadata": {
        "id": "otBc_IPIwsrf"
      },
      "execution_count": 114,
      "outputs": []
    },
    {
      "cell_type": "code",
      "source": [
        "results.show()"
      ],
      "metadata": {
        "colab": {
          "base_uri": "https://localhost:8080/"
        },
        "id": "yxf4-yrXxAHS",
        "outputId": "b03ed98e-828b-47ac-9d20-52795d35dbb7"
      },
      "execution_count": 115,
      "outputs": [
        {
          "output_type": "stream",
          "name": "stdout",
          "text": [
            "+--------------------+----------+\n",
            "|                 App|sum(Price)|\n",
            "+--------------------+----------+\n",
            "|I'm Rich - Trump ...|     400.0|\n",
            "|  I AM RICH PRO PLUS|    399.99|\n",
            "|   I Am Rich Premium|    399.99|\n",
            "|      I am Rich Plus|    399.99|\n",
            "|I'm Rich/Eu sou R...|    399.99|\n",
            "|most expensive ap...|    399.99|\n",
            "|       I Am Rich Pro|    399.99|\n",
            "|  I am rich(premium)|    399.99|\n",
            "|           I am Rich|    399.99|\n",
            "|          I am Rich!|    399.99|\n",
            "|         💎 I'm rich|    399.99|\n",
            "|I am rich (Most e...|    399.99|\n",
            "|           I am rich|    399.99|\n",
            "|         Eu Sou Rico|    394.99|\n",
            "|           I Am Rich|    389.99|\n",
            "| I am extremely Rich|    379.99|\n",
            "|       I am rich VIP|    299.99|\n",
            "|        EP Cook Book|     200.0|\n",
            "|Vargo Anesthesia ...|    159.98|\n",
            "|       cronometra-br|    154.99|\n",
            "+--------------------+----------+\n",
            "only showing top 20 rows\n",
            "\n"
          ]
        }
      ]
    },
    {
      "cell_type": "code",
      "source": [],
      "metadata": {
        "id": "3_e86FmexBjv"
      },
      "execution_count": 115,
      "outputs": []
    }
  ]
}